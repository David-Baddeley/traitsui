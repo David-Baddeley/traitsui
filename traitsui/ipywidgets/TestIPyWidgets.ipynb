{
 "cells": [
  {
   "cell_type": "code",
   "execution_count": 1,
   "metadata": {},
   "outputs": [],
   "source": [
    "from traits.etsconfig.api import ETSConfig\n",
    "\n",
    "ETSConfig.toolkit = 'ipywidgets'"
   ]
  },
  {
   "cell_type": "code",
   "execution_count": 2,
   "metadata": {},
   "outputs": [],
   "source": [
    "from traits.api import HasTraits, Unicode, Bool, Int\n",
    "\n",
    "from traitsui.group import VGroup, Tabbed, VFold, VGrid\n",
    "from traitsui.item import Item\n",
    "from traitsui.view import View\n",
    "from traitsui.ui import UI\n",
    "\n",
    "class TestObj(HasTraits):\n",
    "    text = Unicode\n",
    "    boolean = Bool\n",
    "    integer = Int\n",
    "\n",
    "test_obj = TestObj()\n",
    "    \n",
    "test_view = View(\n",
    "    Tabbed(\n",
    "        VGroup(\n",
    "            Item(label='test'),\n",
    "            Item('text'),\n",
    "            label=\"Tab 1\",\n",
    "        ),\n",
    "        VGroup(\n",
    "            Item('boolean'),\n",
    "            Item('integer'),\n",
    "            label=\"Tab 2\"\n",
    "        ),\n",
    "    ),\n",
    ")\n",
    "ui = test_obj.edit_traits(view=test_view, kind='live')\n"
   ]
  },
  {
   "cell_type": "code",
   "execution_count": 3,
   "metadata": {},
   "outputs": [
    {
     "name": "stdout",
     "output_type": "stream",
     "text": [
      "Tab(children=(GridBox(children=(Label(value='test'), Label(value=''), Label(value='Text:'), Text(value='')), layout=Layout(grid_template_columns='auto auto')), GridBox(children=(Label(value='Boolean:'), Checkbox(value=False), Label(value='Integer:'), Text(value='0')), layout=Layout(grid_template_columns='auto auto'))), _titles={'0': 'Tab 1', '1': 'Tab 2'})\n"
     ]
    }
   ],
   "source": [
    "print(ui.control)"
   ]
  },
  {
   "cell_type": "code",
   "execution_count": 4,
   "metadata": {},
   "outputs": [
    {
     "data": {
      "application/vnd.jupyter.widget-view+json": {
       "model_id": "ad6fbfa88e5d47088de44c5fb1d77511",
       "version_major": 2,
       "version_minor": 0
      },
      "text/plain": [
       "Tab(children=(GridBox(children=(Label(value='test'), Label(value=''), Label(value='Text:'), Text(value='')), l…"
      ]
     },
     "metadata": {},
     "output_type": "display_data"
    }
   ],
   "source": [
    "from IPython.display import display\n",
    "#from traitsui.ipywidgets.ui_panel import panel\n",
    "\n",
    "t = ui.control\n",
    "t"
   ]
  },
  {
   "cell_type": "code",
   "execution_count": 5,
   "metadata": {},
   "outputs": [
    {
     "data": {
      "application/vnd.jupyter.widget-view+json": {
       "model_id": "d861bee9d0db4fff9da86ce049d860c2",
       "version_major": 2,
       "version_minor": 0
      },
      "text/plain": [
       "Tab(children=(GridBox(children=(Label(value='test'), Label(value=''), Label(value='Text:'), Text(value='')), l…"
      ]
     },
     "metadata": {},
     "output_type": "display_data"
    }
   ],
   "source": [
    "test_obj.configure_traits(view=test_view, kind='live')\n"
   ]
  },
  {
   "cell_type": "code",
   "execution_count": 6,
   "metadata": {},
   "outputs": [
    {
     "data": {
      "text/plain": [
       "''"
      ]
     },
     "execution_count": 6,
     "metadata": {},
     "output_type": "execute_result"
    }
   ],
   "source": [
    "test_obj.text"
   ]
  },
  {
   "cell_type": "code",
   "execution_count": 7,
   "metadata": {},
   "outputs": [],
   "source": [
    "test_obj.text = \"Other way\""
   ]
  },
  {
   "cell_type": "code",
   "execution_count": 8,
   "metadata": {},
   "outputs": [
    {
     "data": {
      "text/plain": [
       "False"
      ]
     },
     "execution_count": 8,
     "metadata": {},
     "output_type": "execute_result"
    }
   ],
   "source": [
    "test_obj.boolean"
   ]
  },
  {
   "cell_type": "code",
   "execution_count": 9,
   "metadata": {},
   "outputs": [
    {
     "data": {
      "text/plain": [
       "0"
      ]
     },
     "execution_count": 9,
     "metadata": {},
     "output_type": "execute_result"
    }
   ],
   "source": [
    "test_obj.integer"
   ]
  },
  {
   "cell_type": "code",
   "execution_count": 10,
   "metadata": {},
   "outputs": [],
   "source": [
    "test_obj.integer = 100"
   ]
  },
  {
   "cell_type": "code",
   "execution_count": 11,
   "metadata": {},
   "outputs": [],
   "source": [
    "test_obj.boolean = True"
   ]
  },
  {
   "cell_type": "code",
   "execution_count": 12,
   "metadata": {},
   "outputs": [
    {
     "data": {
      "application/vnd.jupyter.widget-view+json": {
       "model_id": "5ca16f2ce9a747f1ac13b2e41bf034e5",
       "version_major": 2,
       "version_minor": 0
      },
      "text/plain": [
       "GridBox(children=(Button(layout=Layout(height='auto', width='auto'), style=ButtonStyle(button_color='darkseagr…"
      ]
     },
     "metadata": {},
     "output_type": "display_data"
    }
   ],
   "source": [
    "from ipywidgets import GridBox, Button, ButtonStyle, Layout\n",
    "gb = GridBox(children=[Button(layout=Layout(width='auto', height='auto'),\n",
    "                         style=ButtonStyle(button_color='darkseagreen')) for i in range(9)\n",
    "                 ],\n",
    "        layout=Layout(\n",
    "            width='50%',\n",
    "            grid_template_columns='100px 50px 100px',\n",
    "            grid_template_rows='80px auto 80px',\n",
    "            grid_gap='5px 10px')\n",
    "       )\n",
    "display(gb)"
   ]
  },
  {
   "cell_type": "code",
   "execution_count": null,
   "metadata": {},
   "outputs": [],
   "source": []
  }
 ],
 "metadata": {
  "kernelspec": {
   "display_name": "Python 3",
   "language": "python",
   "name": "python3"
  },
  "language_info": {
   "codemirror_mode": {
    "name": "ipython",
    "version": 3
   },
   "file_extension": ".py",
   "mimetype": "text/x-python",
   "name": "python",
   "nbconvert_exporter": "python",
   "pygments_lexer": "ipython3",
   "version": "3.6.0"
  }
 },
 "nbformat": 4,
 "nbformat_minor": 2
}
