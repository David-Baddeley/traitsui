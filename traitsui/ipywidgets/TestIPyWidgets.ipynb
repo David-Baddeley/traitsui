{
 "cells": [
  {
   "cell_type": "code",
   "execution_count": 1,
   "metadata": {},
   "outputs": [],
   "source": [
    "from traits.etsconfig.api import ETSConfig\n",
    "\n",
    "ETSConfig.toolkit = 'ipywidgets'"
   ]
  },
  {
   "cell_type": "code",
   "execution_count": 2,
   "metadata": {},
   "outputs": [
    {
     "name": "stdout",
     "output_type": "stream",
     "text": [
      "(<code object <module> at 0x108ea8810, file \"<string>\", line 1>, {'object': <__main__.TestObj object at 0x109137468>, 'handler': <traitsui.handler.Handler object at 0x109137200>})\n",
      "<__main__.TestObj object at 0x109137468>\n",
      "(<code object <module> at 0x108ea8810, file \"<string>\", line 1>, {'object': <__main__.TestObj object at 0x109137468>, 'handler': <traitsui.handler.Handler object at 0x109137200>})\n",
      "<__main__.TestObj object at 0x109137468>\n"
     ]
    }
   ],
   "source": [
    "from traits.api import HasTraits, Unicode, Bool\n",
    "\n",
    "from traitsui.group import VGroup\n",
    "from traitsui.item import Item\n",
    "from traitsui.view import View\n",
    "from traitsui.ui import UI\n",
    "\n",
    "class TestObj(HasTraits):\n",
    "    text = Unicode\n",
    "    boolean = Bool\n",
    "\n",
    "test_obj = TestObj()\n",
    "    \n",
    "test_view = View(\n",
    "    VGroup(\n",
    "        Item(name='', label='test'),\n",
    "        Item('text'),\n",
    "        Item('boolean'),\n",
    "        show_labels=False,\n",
    "    ),\n",
    "    kind='panel'\n",
    ")\n",
    "#test_view.edit_traits(context={'object': test_obj}, kind='live')\n",
    "ui = test_obj.edit_traits(view=test_view, kind='live')\n",
    "\n",
    "#ui = test_view.ui(context={'object': test_obj}, kind='live')\n",
    "\n",
    "# ui = UI(view=test_view,\n",
    "#     context={},\n",
    "#     handler=default_handler(),\n",
    "#     view_elements=None,\n",
    "#     title=test_view.title,\n",
    "#     id='',\n",
    "#     scrollable=False)\n"
   ]
  },
  {
   "cell_type": "code",
   "execution_count": 3,
   "metadata": {},
   "outputs": [
    {
     "data": {
      "application/vnd.jupyter.widget-view+json": {
       "model_id": "50f1263c423e4725bfd662574c9895fc",
       "version_major": 2,
       "version_minor": 0
      },
      "text/plain": [
       "VBox(children=(Label(value='test'), Text(value=''), Checkbox(value=False)))"
      ]
     },
     "metadata": {},
     "output_type": "display_data"
    }
   ],
   "source": [
    "from IPython.display import display\n",
    "#from traitsui.ipywidgets.ui_panel import panel\n",
    "\n",
    "t = ui.control\n",
    "display(t)"
   ]
  },
  {
   "cell_type": "code",
   "execution_count": 4,
   "metadata": {},
   "outputs": [
    {
     "data": {
      "text/plain": [
       "''"
      ]
     },
     "execution_count": 4,
     "metadata": {},
     "output_type": "execute_result"
    }
   ],
   "source": [
    "test_obj.text"
   ]
  },
  {
   "cell_type": "code",
   "execution_count": 5,
   "metadata": {},
   "outputs": [],
   "source": [
    "test_obj.text = \"Other way\""
   ]
  },
  {
   "cell_type": "code",
   "execution_count": 9,
   "metadata": {},
   "outputs": [
    {
     "data": {
      "text/plain": [
       "False"
      ]
     },
     "execution_count": 9,
     "metadata": {},
     "output_type": "execute_result"
    }
   ],
   "source": [
    "test_obj.boolean"
   ]
  },
  {
   "cell_type": "code",
   "execution_count": 11,
   "metadata": {},
   "outputs": [],
   "source": [
    "test_obj.boolean = True"
   ]
  },
  {
   "cell_type": "code",
   "execution_count": null,
   "metadata": {},
   "outputs": [],
   "source": []
  }
 ],
 "metadata": {
  "kernelspec": {
   "display_name": "Python 3",
   "language": "python",
   "name": "python3"
  },
  "language_info": {
   "codemirror_mode": {
    "name": "ipython",
    "version": 3
   },
   "file_extension": ".py",
   "mimetype": "text/x-python",
   "name": "python",
   "nbconvert_exporter": "python",
   "pygments_lexer": "ipython3",
   "version": "3.5.2"
  }
 },
 "nbformat": 4,
 "nbformat_minor": 2
}
